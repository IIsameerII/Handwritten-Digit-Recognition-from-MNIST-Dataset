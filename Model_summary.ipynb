{
 "cells": [
  {
   "cell_type": "code",
   "execution_count": 1,
   "metadata": {},
   "outputs": [],
   "source": [
    "# Import necessary libraries\n",
    "import torch\n",
    "from torchinfo import summary\n",
    "from torch import nn"
   ]
  },
  {
   "cell_type": "code",
   "execution_count": 2,
   "metadata": {},
   "outputs": [],
   "source": [
    "# Inputs\n",
    "\n",
    "Pytorch_file_path = r'model\\MNIST_Digit_Detector.pt'"
   ]
  },
  {
   "cell_type": "code",
   "execution_count": 3,
   "metadata": {},
   "outputs": [
    {
     "data": {
      "text/plain": [
       "<All keys matched successfully>"
      ]
     },
     "execution_count": 3,
     "metadata": {},
     "output_type": "execute_result"
    }
   ],
   "source": [
    "# TinyVGG Model Architecture\n",
    "\n",
    "class TinyVGG(nn.Module):\n",
    "    def __init__(self,\n",
    "                in_features,\n",
    "                out_features,\n",
    "                hidden_units):\n",
    "        super().__init__()\n",
    "        self.conv_block_1 = nn.Sequential(\n",
    "            nn.Conv2d(in_channels=in_features,\n",
    "                                out_channels=hidden_units,\n",
    "                                kernel_size=3,\n",
    "                                padding=1,\n",
    "                                stride=1),\n",
    "            nn.ReLU(),\n",
    "            nn.Conv2d(in_channels=hidden_units,\n",
    "                    out_channels=hidden_units,\n",
    "                    kernel_size=2,\n",
    "                    padding=1),\n",
    "            nn.ReLU(),\n",
    "            nn.MaxPool2d(kernel_size=2)\n",
    "        )\n",
    "        self.conv_block_2 = nn.Sequential(\n",
    "            nn.Conv2d(in_channels=hidden_units,\n",
    "                    out_channels=hidden_units,\n",
    "                    kernel_size=3,\n",
    "                    stride=1,\n",
    "                    padding=1),\n",
    "            nn.ReLU(),\n",
    "            nn.MaxPool2d(kernel_size=2)\n",
    "        )\n",
    "        self.classifier = nn.Sequential(\n",
    "            nn.Flatten(),\n",
    "            # We need to change this in_features below\n",
    "            nn.Linear(in_features=7*7*hidden_units,  # This is a hardcoded value. \n",
    "                                        #The error in the dummy_x gives us the info for this\n",
    "                    out_features=out_features)\n",
    "        )\n",
    "\n",
    "    def forward(self, X):\n",
    "        X = self.conv_block_1(X)\n",
    "        X = self.conv_block_2(X)\n",
    "        X = self.classifier(X)\n",
    "        return (X)\n",
    "\n",
    "# Check if GPU is present\n",
    "device = 'cuda' if torch.cuda.is_available() else 'cpu'\n",
    "\n",
    "# Instantiate the model\n",
    "model = TinyVGG(in_features=1,\n",
    "                    out_features=10,\n",
    "                    hidden_units=10).to(device)\n",
    "    \n",
    "# Load the Weights\n",
    "model.load_state_dict(torch.load(f=Pytorch_file_path,map_location=torch.device(device)))"
   ]
  },
  {
   "cell_type": "code",
   "execution_count": 4,
   "metadata": {},
   "outputs": [
    {
     "data": {
      "text/plain": [
       "=================================================================\n",
       "Layer (type:depth-idx)                   Param #\n",
       "=================================================================\n",
       "TinyVGG                                  --\n",
       "├─Sequential: 1-1                        --\n",
       "│    └─Conv2d: 2-1                       100\n",
       "│    └─ReLU: 2-2                         --\n",
       "│    └─Conv2d: 2-3                       410\n",
       "│    └─ReLU: 2-4                         --\n",
       "│    └─MaxPool2d: 2-5                    --\n",
       "├─Sequential: 1-2                        --\n",
       "│    └─Conv2d: 2-6                       910\n",
       "│    └─ReLU: 2-7                         --\n",
       "│    └─MaxPool2d: 2-8                    --\n",
       "├─Sequential: 1-3                        --\n",
       "│    └─Flatten: 2-9                      --\n",
       "│    └─Linear: 2-10                      4,910\n",
       "=================================================================\n",
       "Total params: 6,330\n",
       "Trainable params: 6,330\n",
       "Non-trainable params: 0\n",
       "================================================================="
      ]
     },
     "execution_count": 4,
     "metadata": {},
     "output_type": "execute_result"
    }
   ],
   "source": [
    "summary(model)"
   ]
  }
 ],
 "metadata": {
  "kernelspec": {
   "display_name": "not_base",
   "language": "python",
   "name": "python3"
  },
  "language_info": {
   "codemirror_mode": {
    "name": "ipython",
    "version": 3
   },
   "file_extension": ".py",
   "mimetype": "text/x-python",
   "name": "python",
   "nbconvert_exporter": "python",
   "pygments_lexer": "ipython3",
   "version": "3.10.9"
  },
  "orig_nbformat": 4
 },
 "nbformat": 4,
 "nbformat_minor": 2
}
